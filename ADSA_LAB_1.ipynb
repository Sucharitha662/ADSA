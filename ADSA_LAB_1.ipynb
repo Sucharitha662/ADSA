{
  "nbformat": 4,
  "nbformat_minor": 0,
  "metadata": {
    "colab": {
      "provenance": [],
      "authorship_tag": "ABX9TyNFhSiqCWGaRL6V3oFcGnVw",
      "include_colab_link": true
    },
    "kernelspec": {
      "name": "python3",
      "display_name": "Python 3"
    },
    "language_info": {
      "name": "python"
    }
  },
  "cells": [
    {
      "cell_type": "markdown",
      "metadata": {
        "id": "view-in-github",
        "colab_type": "text"
      },
      "source": [
        "<a href=\"https://colab.research.google.com/github/Sucharitha662/ADSA/blob/main/ADSA_LAB_1.ipynb\" target=\"_parent\"><img src=\"https://colab.research.google.com/assets/colab-badge.svg\" alt=\"Open In Colab\"/></a>"
      ]
    },
    {
      "cell_type": "code",
      "execution_count": 4,
      "metadata": {
        "colab": {
          "base_uri": "https://localhost:8080/"
        },
        "id": "Ke5VKOLXM2Lv",
        "outputId": "9d7e726a-f9ed-419f-ff40-2bc57ac1f81d"
      },
      "outputs": [
        {
          "output_type": "stream",
          "name": "stdout",
          "text": [
            " Inserted: Alice, Age: 30, ID: 101\n",
            " Inserted: Bob, Age: 45, ID: 102\n",
            " Inserted: Charlie, Age: 25, ID: 103\n",
            " Patient List:\n",
            " Name: Alice, Age: 30, ID: 101\n",
            " Name: Bob, Age: 45, ID: 102\n",
            " Name: Charlie, Age: 25, ID: 103\n",
            " Deleted patient with ID: 102\n",
            " Patient List:\n",
            " Name: Alice, Age: 30, ID: 101\n",
            " Name: Charlie, Age: 25, ID: 103\n",
            " Patient with ID 84 not found.\n",
            " Patient List:\n",
            " Name: Alice, Age: 30, ID: 101\n",
            " Name: Charlie, Age: 25, ID: 103\n"
          ]
        }
      ],
      "source": [
        "#Implement a Singly linked List to Manage Patient Details(Name, Age ,ID). Perform Insertion and Deletion\n",
        "\n",
        "class PatientNode:\n",
        "    def __init__(self, name, age, patient_id):\n",
        "        self.name = name\n",
        "        self.age = age\n",
        "        self.patient_id = patient_id\n",
        "        self.next = None\n",
        "\n",
        "class PatientLinkedList:\n",
        "    def __init__(self):\n",
        "        self.head = None\n",
        "\n",
        "    def insert_patient(self, name, age, patient_id):\n",
        "        new_node = PatientNode(name, age, patient_id)\n",
        "        if self.head is None:\n",
        "            self.head = new_node\n",
        "        else:\n",
        "            current = self.head\n",
        "            while current.next:\n",
        "                current = current.next\n",
        "            current.next = new_node\n",
        "        print(f\" Inserted: {name}, Age: {age}, ID: {patient_id}\")\n",
        "\n",
        "    def delete_patient(self, patient_id):\n",
        "        current = self.head\n",
        "        previous = None\n",
        "        while current:\n",
        "            if current.patient_id == patient_id:\n",
        "                if previous:\n",
        "                    previous.next = current.next\n",
        "                else:\n",
        "                    self.head = current.next\n",
        "                print(f\" Deleted patient with ID: {patient_id}\")\n",
        "                return\n",
        "            previous = current\n",
        "            current = current.next\n",
        "        print(f\" Patient with ID {patient_id} not found.\")\n",
        "\n",
        "    def display_patients(self):\n",
        "        if self.head is None:\n",
        "            print(\" No patients in the list.\")\n",
        "            return\n",
        "        print(\" Patient List:\")\n",
        "        current = self.head\n",
        "        while current:\n",
        "            print(f\" Name: {current.name}, Age: {current.age}, ID: {current.patient_id}\")\n",
        "            current = current.next\n",
        "\n",
        "# Example usage\n",
        "if __name__ == \"__main__\":\n",
        "    plist = PatientLinkedList()\n",
        "    plist.insert_patient(\"Alice\", 30, 101)\n",
        "    plist.insert_patient(\"Bob\", 45, 102)\n",
        "    plist.insert_patient(\"Charlie\", 25, 103)\n",
        "\n",
        "    plist.display_patients()\n",
        "\n",
        "    plist.delete_patient(102)\n",
        "    plist.display_patients()\n",
        "    plist.delete_patient(84)\n",
        "    plist.display_patients()"
      ]
    }
  ]
}